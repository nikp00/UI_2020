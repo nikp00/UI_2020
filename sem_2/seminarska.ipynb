{
 "cells": [
  {
   "cell_type": "code",
   "execution_count": 285,
   "metadata": {},
   "outputs": [],
   "source": [
    "from __future__ import annotations\n",
    "import numpy as np\n",
    "from queue import Queue, PriorityQueue\n",
    "from copy import deepcopy\n",
    "from collections import defaultdict\n",
    "from itertools import count\n",
    "import math\n",
    "import pickle\n",
    "\n",
    "\n",
    "import seaborn as sns\n",
    "import matplotlib.pyplot as plt\n",
    "import pandas as pd\n",
    "\n",
    "sns.set_theme(style=\"darkgrid\")\n",
    "\n",
    "\n",
    "import time"
   ]
  },
  {
   "cell_type": "code",
   "execution_count": 87,
   "metadata": {},
   "outputs": [],
   "source": [
    "class Matrix:\n",
    "    def __init__(self, path: str):\n",
    "        self.num_elements = 1\n",
    "        self.init(path)\n",
    "        self.moving_column = None\n",
    "        self.moving_options = list()\n",
    "        self.already_moved = set()\n",
    "\n",
    "    def init(self, path: str):\n",
    "        file = open(path, \"r\")\n",
    "        lines = [\n",
    "            [e.replace(\"' '\", \" \").replace(\"'\", \"\") for e in line.strip().split(\",\")]\n",
    "            for line in file\n",
    "        ]\n",
    "        self.top_positions = defaultdict(lambda: len(lines), dict())\n",
    "        self.height = len(lines)\n",
    "        self.width = len(lines[0])\n",
    "        self.data = lines\n",
    "        self.compute_top_positions()\n",
    "\n",
    "    def compute_top_positions(self):\n",
    "        self.top_positions = defaultdict(lambda: self.height, dict())\n",
    "        for i, row in enumerate(self.data):\n",
    "            for j, e in enumerate(row):\n",
    "                if e != \" \" and self.top_positions[j] == self.height:\n",
    "                    self.top_positions[j] = i\n",
    "\n",
    "    def __repr__(self):\n",
    "        return \"\\n\".join([str([e for e in row]) for row in self.data])\n",
    "\n",
    "    def get_positions_on_top(self) -> dict:\n",
    "        return {i: self.top_positions[i] for i in range(self.width)}\n",
    "\n",
    "    def get_next_move(self) -> tuple:\n",
    "        top = self.get_positions_on_top()\n",
    "        if len(self.moving_options) == 0:\n",
    "            self.moving_column = self.get_next_move_column()\n",
    "        if self.moving_column is not None and len(self.moving_options) == 0:\n",
    "            self.moving_options = [\n",
    "                (k, v - 1) for k, v in top.items() if k != self.moving_column and v > 0\n",
    "            ]\n",
    "        if len(self.moving_options) > 0:\n",
    "            to_move = self.moving_options[0]\n",
    "            self.moving_options = self.moving_options[1:]\n",
    "            return to_move\n",
    "        else:\n",
    "            self.moving_column = None\n",
    "        return None\n",
    "\n",
    "    def get_next_move_column(self) -> int:\n",
    "        top = self.get_positions_on_top()\n",
    "        for k, v in top.items():\n",
    "            if k not in self.already_moved and self.height > v:\n",
    "                self.already_moved.add(k)\n",
    "                return k\n",
    "        return None\n",
    "\n",
    "    def copy(self) -> Matrix:\n",
    "        temp = deepcopy(self)\n",
    "        temp.moving_column = None\n",
    "        temp.moving_options = list()\n",
    "        temp.already_moved = set()\n",
    "        return temp\n",
    "\n",
    "    def swap(self, x: tuple, y: tuple):\n",
    "        temp = self.data[x[1]][x[0]]\n",
    "        self.data[x[1]][x[0]] = self.data[y[1]][y[0]]\n",
    "        self.data[y[1]][y[0]] = temp\n",
    "        self.compute_top_positions()\n",
    "\n",
    "    def distance(self, a: tuple, b: tuple, p: str) -> float:\n",
    "        if p == \"manhattan\":\n",
    "            return sum(abs(e1 - e2) for e1, e2 in zip(a, b))\n",
    "        elif p == \"euclidean\":\n",
    "            return sum(abs(e1 - e2) ** 2 for e1, e2 in zip(a, b)) ** (1 / 2)\n",
    "        elif p == \"column\":\n",
    "            return abs(b[1] - a[1])\n",
    "        elif p == \"row\":\n",
    "            return abs(b[0] - a[0])\n",
    "\n",
    "    def get_index(self, e: str) -> tuple:\n",
    "        for row in self.data:\n",
    "            if e in row:\n",
    "                return (self.data.index(row), row.index(e))\n",
    "        return None\n",
    "\n",
    "    def calculate_distances(self, start: Node, end: Node, p: str) -> tuple:\n",
    "        h, g = 0, 0\n",
    "        for i, row in enumerate(self.data):\n",
    "            for j, e in enumerate(row):\n",
    "                if e != \" \":\n",
    "                    if p != \"misplaced\":\n",
    "                        si, sj = start.item.get_index(e)\n",
    "                        ei, ej = end.item.get_index(e)\n",
    "                        g += self.distance((i, j), (si, sj), p)\n",
    "                        h += self.distance((i, j), (ei, ej), p)\n",
    "                    else:\n",
    "                        if e != end.item.data[i][j]:\n",
    "                            h += i\n",
    "                        if e != start.item.data[i][j]:\n",
    "                            g += 1\n",
    "        return g, h"
   ]
  },
  {
   "cell_type": "code",
   "execution_count": 88,
   "metadata": {},
   "outputs": [],
   "source": [
    "class Node:\n",
    "    def __init__(self, parent: Node, item: Matrix, level: int):\n",
    "        self.parent = parent\n",
    "        self.item = item\n",
    "        self.children = list()\n",
    "        self.level = level\n",
    "        self.move_made = None\n",
    "        self.h = 0\n",
    "        self.g = 0\n",
    "        self.f = 0\n",
    "\n",
    "    def __repr__(self):\n",
    "        return str(self.item)\n"
   ]
  },
  {
   "cell_type": "code",
   "execution_count": 89,
   "metadata": {},
   "outputs": [],
   "source": [
    "class Graph:\n",
    "    def __init__(self, start: Matrix, target: Matrix):\n",
    "        self.root = Node(None, deepcopy(start), 0)\n",
    "        self.node_values = set()\n",
    "        self.target = Node(None, deepcopy(target), -1)\n",
    "        self.total_nodes = 0\n",
    "        self.total_in_memory = 0\n",
    "        self.max_memory = 0\n",
    "\n",
    "    def from_node_to_root(self, node: Node) -> list:\n",
    "        nodes = list()\n",
    "        while node:\n",
    "            nodes.append(node)\n",
    "            node = node.parent\n",
    "        return nodes[::-1]\n",
    "\n",
    "    def develop_next(self, node: Node) -> tuple:\n",
    "        new_node = node\n",
    "        while str(list(new_node.item.data)) in self.node_items:\n",
    "            move = node.item.get_next_move()\n",
    "            if move is not None:\n",
    "                new_node = Node(node, node.item.copy(), node.level + 1)\n",
    "                top = node.item.get_positions_on_top()\n",
    "                new_node.item.swap(\n",
    "                    move, (node.item.moving_column, top[node.item.moving_column])\n",
    "                )\n",
    "            else:\n",
    "                return False, None\n",
    "        self.node_items.add(str(list(new_node.item.data)))\n",
    "        node.children.append(new_node)\n",
    "        self.total_nodes += 1\n",
    "        return new_node, (node.item.moving_column, move[0])"
   ]
  },
  {
   "cell_type": "code",
   "execution_count": 90,
   "metadata": {},
   "outputs": [],
   "source": [
    "data = {\n",
    "    1: {\n",
    "        \"start\": Matrix(\"./primeri/primer1_zacetna.txt\"),\n",
    "        \"target\": Matrix(\"./primeri/primer1_koncna.txt\"),\n",
    "    },\n",
    "    2: {\n",
    "        \"start\": Matrix(\"./primeri/primer2_zacetna.txt\"),\n",
    "        \"target\": Matrix(\"./primeri/primer2_koncna.txt\"),\n",
    "    },\n",
    "    3: {\n",
    "        \"start\": Matrix(\"./primeri/primer3_zacetna.txt\"),\n",
    "        \"target\": Matrix(\"./primeri/primer3_koncna.txt\"),\n",
    "    },\n",
    "    4: {\n",
    "        \"start\": Matrix(\"./primeri/primer4_zacetna.txt\"),\n",
    "        \"target\": Matrix(\"./primeri/primer4_koncna.txt\"),\n",
    "    },\n",
    "    5: {\n",
    "        \"start\": Matrix(\"./primeri/primer5_zacetna.txt\"),\n",
    "        \"target\": Matrix(\"./primeri/primer5_koncna.txt\"),\n",
    "    },\n",
    "}"
   ]
  },
  {
   "cell_type": "code",
   "execution_count": 17,
   "metadata": {},
   "outputs": [],
   "source": [
    "res = defaultdict(dict)"
   ]
  },
  {
   "cell_type": "markdown",
   "metadata": {},
   "source": [
    "# BFS"
   ]
  },
  {
   "cell_type": "code",
   "execution_count": 18,
   "metadata": {},
   "outputs": [],
   "source": [
    "class BFS(Graph):\n",
    "    def __init__(self, start: Matrix, target: Matrix):\n",
    "        super().__init__(start, target)\n",
    "        self.queue = Queue()\n",
    "        self.queue.put(self.root)\n",
    "        self.node_items = set()\n",
    "        self.node_items.add(str(list(self.root.item.data)))\n",
    "\n",
    "    def solve(self) -> list:\n",
    "        while not self.queue.empty():\n",
    "            self.max_memory = max(self.max_memory, self.queue.qsize())\n",
    "            node = self.queue.get()\n",
    "            new_node = node\n",
    "            while new_node:\n",
    "                new_node, move = self.develop_next(node)\n",
    "                if new_node:\n",
    "                    new_node.move_made = move\n",
    "                    if list(new_node.item.data) == list(self.target.item.data):\n",
    "                        return self.from_node_to_root(new_node), self.queue.qsize() + 1\n",
    "                    elif new_node:\n",
    "                        self.queue.put(new_node)\n",
    "        return []"
   ]
  },
  {
   "cell_type": "code",
   "execution_count": 19,
   "metadata": {},
   "outputs": [
    {
     "name": "stdout",
     "output_type": "stream",
     "text": [
      "Case: 1  |  Time:    0.00798  |  Steps:          5  |  Total nodes generated:         54  |  Nodes in memory:         20  |  Max. nodes in memory: 20 \n",
      "Case: 2  |  Time:    0.13863  |  Steps:          9  |  Total nodes generated:        797  |  Nodes in memory:        242  |  Max. nodes in memory: 241 \n",
      "Case: 3  |  Time:     5.8743  |  Steps:          8  |  Total nodes generated:      21825  |  Nodes in memory:      10904  |  Max. nodes in memory: 10904 \n",
      "Case: 4  |  Time:   16.00621  |  Steps:         12  |  Total nodes generated:      32399  |  Nodes in memory:         21  |  Max. nodes in memory: 10691 \n",
      "Case: 5  |  Time:   40.08436  |  Steps:          8  |  Total nodes generated:      99361  |  Nodes in memory:      47870  |  Max. nodes in memory: 47872 \n"
     ]
    }
   ],
   "source": [
    "for k, v in data.items():\n",
    "    g = BFS(v[\"start\"], v[\"target\"])\n",
    "    t0 = time.time()\n",
    "    nodes, mem = g.solve()\n",
    "    t1 = time.time()\n",
    "    total = t1 - t0\n",
    "    print(\n",
    "        f\"Case: {k}  |  Time: {round(total, 5):10}  |  Steps: {(len(nodes) - 1):10}  |  Total nodes generated: {g.total_nodes:10}  |  Nodes in memory: {mem:10}  |  Max. nodes in memory: {g.max_memory} \"\n",
    "    )\n",
    "    res[\"bfs\"][k] = {\n",
    "        \"time\": round(total, 5),\n",
    "        \"path\": [str(e) for e in nodes],\n",
    "        \"moves\": [e.move_made for e in nodes],\n",
    "        \"number_of_steps\": len(nodes) - 1,\n",
    "        \"mem_usage\": mem,\n",
    "        \"max_mem_usage\": g.max_memory,\n",
    "    }"
   ]
  },
  {
   "cell_type": "markdown",
   "metadata": {},
   "source": [
    "# DFS"
   ]
  },
  {
   "cell_type": "code",
   "execution_count": 20,
   "metadata": {},
   "outputs": [],
   "source": [
    "class DFS(Graph):\n",
    "    def __init__(self, start: Matrix, target: Matrix):\n",
    "        super().__init__(start, target)\n",
    "        self.stack = list()\n",
    "        self.stack.append(self.root)\n",
    "        self.node_items = set()\n",
    "        self.node_items.add(str(list(self.root.item.data)))\n",
    "\n",
    "    def solve(self) -> list:\n",
    "        while len(self.stack) > 0:\n",
    "            self.max_memory = max(self.max_memory, len(self.stack))\n",
    "            node = self.stack.pop()\n",
    "            new_node = node\n",
    "            new_nodes = list()\n",
    "            while new_node:\n",
    "                new_node, move = self.develop_next(node)\n",
    "                if new_node:\n",
    "                    new_node.move_made = move\n",
    "                    if list(new_node.item.data) == list(self.target.item.data):\n",
    "                        return self.from_node_to_root(new_node), len(self.stack) + 1\n",
    "                    elif new_node:\n",
    "                        new_nodes.append(new_node)\n",
    "            self.stack.extend(new_nodes[::-1])\n",
    "        return []"
   ]
  },
  {
   "cell_type": "code",
   "execution_count": 21,
   "metadata": {},
   "outputs": [
    {
     "name": "stdout",
     "output_type": "stream",
     "text": [
      "Case: 1  |  Time:    0.00598  |  Steps:          9  |  Total nodes generated:         23  |  Nodes in memory:         14  |  Max. nodes in memory: 14 \n",
      "Case: 2  |  Time:    0.13663  |  Steps:        398  |  Total nodes generated:       1074  |  Nodes in memory:        570  |  Max. nodes in memory: 570 \n",
      "Case: 3  |  Time:    4.26061  |  Steps:       6443  |  Total nodes generated:      29060  |  Nodes in memory:      22507  |  Max. nodes in memory: 22507 \n",
      "Case: 4  |  Time:    4.28355  |  Steps:       7071  |  Total nodes generated:      29922  |  Nodes in memory:      21610  |  Max. nodes in memory: 21610 \n",
      "Case: 5  |  Time:    0.02294  |  Steps:         29  |  Total nodes generated:        272  |  Nodes in memory:        241  |  Max. nodes in memory: 241 \n"
     ]
    }
   ],
   "source": [
    "for k, v in data.items():\n",
    "    g = DFS(v[\"start\"], v[\"target\"])\n",
    "    t0 = time.time()\n",
    "    nodes, mem = g.solve()\n",
    "    t1 = time.time()\n",
    "    total = t1 - t0\n",
    "    print(\n",
    "        f\"Case: {k}  |  Time: {round(total, 5):10}  |  Steps: {(len(nodes) - 1):10}  |  Total nodes generated: {g.total_nodes:10}  |  Nodes in memory: {mem:10}  |  Max. nodes in memory: {g.max_memory} \"\n",
    "    )\n",
    "    res[\"dfs\"][k] = {\n",
    "        \"time\": round(total, 5),\n",
    "        \"path\": [str(e) for e in nodes],\n",
    "        \"moves\": [e.move_made for e in nodes],\n",
    "        \"number_of_steps\": len(nodes) - 1,\n",
    "        \"mem_usage\": mem,\n",
    "        \"max_mem_usage\": g.max_memory,\n",
    "    }"
   ]
  },
  {
   "cell_type": "markdown",
   "metadata": {},
   "source": [
    "# IDDFS"
   ]
  },
  {
   "cell_type": "code",
   "execution_count": 23,
   "metadata": {},
   "outputs": [],
   "source": [
    "class IDDFS(Graph):\n",
    "    def __init__(self, start: Matrix, target: Matrix):\n",
    "        super().__init__(start, target)\n",
    "        self.max_depth = 1\n",
    "        self.temp_stack = []\n",
    "\n",
    "    def solve(self):\n",
    "        res = self.solve_iterative()\n",
    "        while not res:\n",
    "            self.max_depth += 1\n",
    "            res = self.solve_iterative()\n",
    "        return res\n",
    "\n",
    "    def solve_iterative(self) -> list:\n",
    "        self.root.children = []\n",
    "        self.root.item.already_moved = set()\n",
    "        self.stack = list()\n",
    "        self.stack.append(self.root)\n",
    "        self.temp_stack = [str(list(self.root.item.data))]\n",
    "        while len(self.stack) > 0:\n",
    "            self.max_memory = max(self.max_memory, len(self.stack))\n",
    "            node = self.stack.pop()\n",
    "            self.temp_stack = self.temp_stack[: node.level]\n",
    "            self.temp_stack.append(str(list(node.item.data)))\n",
    "            new_node = node\n",
    "            new_nodes = list()\n",
    "            while new_node:\n",
    "                new_node, move = self.develop_next(node)\n",
    "                if new_node and new_node.level > self.max_depth:\n",
    "                    break\n",
    "                if new_node:\n",
    "                    new_node.move_made = move\n",
    "                    if list(new_node.item.data) == list(self.target.item.data):\n",
    "                        return self.from_node_to_root(new_node), len(self.stack) + 1\n",
    "                    elif new_node:\n",
    "                        new_nodes.append(new_node)\n",
    "            self.stack.extend(new_nodes[::-1])\n",
    "        return None\n",
    "\n",
    "    def develop_next(self, node: Node) -> tuple:\n",
    "        if node.level + 1 > self.max_depth:\n",
    "            return False, None\n",
    "        new_node = node\n",
    "        while str(list(new_node.item.data)) in self.temp_stack or new_node == node:\n",
    "            move = node.item.get_next_move()\n",
    "            if move is not None:\n",
    "                new_node = Node(node, node.item.copy(), node.level + 1)\n",
    "                top = node.item.get_positions_on_top()\n",
    "                new_node.item.swap(\n",
    "                    move, (node.item.moving_column, top[node.item.moving_column])\n",
    "                )\n",
    "            else:\n",
    "                return False, None\n",
    "        node.children.append(new_node)\n",
    "        self.total_nodes += 1\n",
    "        return new_node, (node.item.moving_column, move[0])"
   ]
  },
  {
   "cell_type": "code",
   "execution_count": 24,
   "metadata": {},
   "outputs": [
    {
     "name": "stdout",
     "output_type": "stream",
     "text": [
      "Case: 1  |  Time:    0.03092  |  Steps:          5  |  Total nodes generated:        335  |  Nodes in memory:          8  |  Max. nodes in memory: 13 \n",
      "Case: 2  |  Time:    2.56714  |  Steps:          9  |  Total nodes generated:      29082  |  Nodes in memory:         13  |  Max. nodes in memory: 25 \n",
      "Case: 3  |  Time:  534.98595  |  Steps:          8  |  Total nodes generated:    6841338  |  Nodes in memory:         37  |  Max. nodes in memory: 71 \n"
     ]
    }
   ],
   "source": [
    "for k, v in data.items():\n",
    "    if k > 3:\n",
    "        break\n",
    "    g = IDDFS(v[\"start\"], v[\"target\"])\n",
    "    t0 = time.time()\n",
    "    nodes, mem = g.solve()\n",
    "    t1 = time.time()\n",
    "    total = t1 - t0\n",
    "    print(\n",
    "        f\"Case: {k}  |  Time: {round(total, 5):10}  |  Steps: {(len(nodes) - 1):10}  |  Total nodes generated: {g.total_nodes:10}  |  Nodes in memory: {mem:10}  |  Max. nodes in memory: {g.max_memory} \"\n",
    "    )\n",
    "    res[\"iddfs\"][k] = {\n",
    "        \"time\": round(total, 5),\n",
    "        \"path\": [str(e) for e in nodes],\n",
    "        \"moves\": [e.move_made for e in nodes],\n",
    "        \"number_of_steps\": len(nodes) - 1,\n",
    "        \"mem_usage\": mem,\n",
    "        \"max_mem_usage\": g.max_memory,\n",
    "    }"
   ]
  },
  {
   "cell_type": "markdown",
   "metadata": {},
   "source": [
    "# A*"
   ]
  },
  {
   "cell_type": "code",
   "execution_count": 91,
   "metadata": {},
   "outputs": [],
   "source": [
    "class AStar(Graph):\n",
    "    def __init__(self, start: Matrix, target: Matrix, distance_type=1):\n",
    "        super().__init__(start, target)\n",
    "        self.distance_type = distance_type\n",
    "        self.open = PriorityQueue()\n",
    "        self.closed = set()\n",
    "        self.calculate_distance(self.root)\n",
    "        self.open.put((self.root.f, self.root))\n",
    "        self.open_dict = {str(list(self.root.item.data)): self.root}\n",
    "        self.closed_dict = dict()\n",
    "        self.unique = count()\n",
    "\n",
    "    def calculate_distance(self, node: Node):\n",
    "        g, h = node.item.calculate_distances(self.root, self.target, self.distance_type)\n",
    "        if node.parent:\n",
    "            g += node.parent.g\n",
    "        node.h = h\n",
    "        node.g = g\n",
    "        node.f = h + g\n",
    "\n",
    "    def generate_children(self, node: Node) -> list:\n",
    "        children = list()\n",
    "        node.item.already_moved = set()\n",
    "        node.item.moving_options = list()\n",
    "        node.item.moving_column = None\n",
    "        new_node = node\n",
    "        while new_node:\n",
    "            new_node, move = self.develop_next(node)\n",
    "            if new_node:\n",
    "                new_node.move_made = move\n",
    "                self.calculate_distance(new_node)\n",
    "                children.append(new_node)\n",
    "        return children\n",
    "\n",
    "    def develop_next(self, node: Node) -> tuple:\n",
    "        new_node = node\n",
    "        move = node.item.get_next_move()\n",
    "        if move is not None:\n",
    "            new_node = Node(node, node.item.copy(), node.level + 1)\n",
    "            top = node.item.get_positions_on_top()\n",
    "            new_node.item.swap(\n",
    "                move, (node.item.moving_column, top[node.item.moving_column])\n",
    "            )\n",
    "        else:\n",
    "            return False, None\n",
    "        node.children.append(new_node)\n",
    "        self.total_nodes += 1\n",
    "        return new_node, (node.item.moving_column, move[0])\n",
    "\n",
    "    def solve(self) -> list:\n",
    "        while not self.open.empty():\n",
    "            self.max_memory = max(self.max_memory, len(self.closed) + self.open.qsize())\n",
    "            _, q = self.open.get()\n",
    "\n",
    "            self.open_dict.pop(str(list(q.item.data)), None)\n",
    "\n",
    "            if list(q.item.data) == list(self.target.item.data):\n",
    "                return (\n",
    "                    self.from_node_to_root(q),\n",
    "                    self.open.qsize() + len(self.closed) + 1,\n",
    "                )\n",
    "\n",
    "            children = self.generate_children(q)\n",
    "            for e in children:\n",
    "                temp = str(list(e.item.data))\n",
    "                if temp in self.open_dict and e.g < self.open_dict[temp].g:\n",
    "                    self.open_dict[temp].parent = q\n",
    "                    self.total_nodes -= 1\n",
    "\n",
    "                elif temp not in self.open_dict and temp not in self.closed_dict:\n",
    "                    self.open_dict[temp] = e\n",
    "                    self.open.put(((e.f, e.h, e.g, next(self.unique)), e))\n",
    "\n",
    "            self.closed_dict[str(list(q.item.data))] = q\n",
    "            self.closed.add(q)"
   ]
  },
  {
   "cell_type": "code",
   "execution_count": 26,
   "metadata": {},
   "outputs": [
    {
     "name": "stdout",
     "output_type": "stream",
     "text": [
      "Case: 1  |  Time:    0.00698  |  Steps:          5  |  Total nodes generated:         98  |  Nodes in memory:         50  |  Max. nodes in memory: 50 \n",
      "Case: 2  |  Time:     0.1506  |  Steps:          9  |  Total nodes generated:       2274  |  Nodes in memory:        785  |  Max. nodes in memory: 785 \n",
      "Case: 3  |  Time:    5.46938  |  Steps:         12  |  Total nodes generated:      71555  |  Nodes in memory:      21764  |  Max. nodes in memory: 21764 \n",
      "Case: 4  |  Time:   20.09229  |  Steps:         12  |  Total nodes generated:     305994  |  Nodes in memory:      32400  |  Max. nodes in memory: 32400 \n",
      "Case: 5  |  Time:  135.81296  |  Steps:          9  |  Total nodes generated:    1404254  |  Nodes in memory:     133185  |  Max. nodes in memory: 133185 \n"
     ]
    }
   ],
   "source": [
    "for k, v in data.items():\n",
    "    g = AStar(v[\"start\"], v[\"target\"], \"row\")\n",
    "    t0 = time.time()\n",
    "    nodes, mem = g.solve()\n",
    "    t1 = time.time()\n",
    "    total = t1 - t0\n",
    "    print(\n",
    "        f\"Case: {k}  |  Time: {round(total, 5):10}  |  Steps: {(len(nodes) - 1):10}  |  Total nodes generated: {g.total_nodes:10}  |  Nodes in memory: {mem:10}  |  Max. nodes in memory: {g.max_memory} \"\n",
    "    )\n",
    "    res[\"a_star_row\"][k] = {\n",
    "        \"time\": round(total, 5),\n",
    "        \"path\": [str(e) for e in nodes],\n",
    "        \"moves\": [e.move_made for e in nodes],\n",
    "        \"number_of_steps\": len(nodes) - 1,\n",
    "        \"mem_usage\": mem,\n",
    "        \"max_mem_usage\": g.max_memory,\n",
    "    }"
   ]
  },
  {
   "cell_type": "code",
   "execution_count": 27,
   "metadata": {},
   "outputs": [
    {
     "name": "stdout",
     "output_type": "stream",
     "text": [
      "Case: 1  |  Time:    0.02094  |  Steps:          5  |  Total nodes generated:        139  |  Nodes in memory:         56  |  Max. nodes in memory: 56 \n",
      "Case: 2  |  Time:    0.16256  |  Steps:         12  |  Total nodes generated:       1803  |  Nodes in memory:        716  |  Max. nodes in memory: 716 \n",
      "Case: 3  |  Time:   21.47709  |  Steps:         11  |  Total nodes generated:     284061  |  Nodes in memory:      46132  |  Max. nodes in memory: 46132 \n",
      "Case: 4  |  Time:    9.19243  |  Steps:         12  |  Total nodes generated:      21267  |  Nodes in memory:       6641  |  Max. nodes in memory: 6641 \n",
      "Case: 5  |  Time:    16.9831  |  Steps:         11  |  Total nodes generated:     164543  |  Nodes in memory:      42097  |  Max. nodes in memory: 42097 \n"
     ]
    }
   ],
   "source": [
    "for k, v in data.items():\n",
    "    g = AStar(v[\"start\"], v[\"target\"], \"column\")\n",
    "    t0 = time.time()\n",
    "    nodes, mem = g.solve()\n",
    "    t1 = time.time()\n",
    "    total = t1 - t0\n",
    "    print(\n",
    "        f\"Case: {k}  |  Time: {round(total, 5):10}  |  Steps: {(len(nodes) - 1):10}  |  Total nodes generated: {g.total_nodes:10}  |  Nodes in memory: {mem:10}  |  Max. nodes in memory: {g.max_memory} \"\n",
    "    )\n",
    "    res[\"a_star_column\"][k] = {\n",
    "        \"time\": round(total, 5),\n",
    "        \"path\": [str(e) for e in nodes],\n",
    "        \"moves\": [e.move_made for e in nodes],\n",
    "        \"number_of_steps\": len(nodes) - 1,\n",
    "        \"mem_usage\": mem,\n",
    "        \"max_mem_usage\": g.max_memory,\n",
    "    }"
   ]
  },
  {
   "cell_type": "code",
   "execution_count": 92,
   "metadata": {},
   "outputs": [
    {
     "name": "stdout",
     "output_type": "stream",
     "text": [
      "Case: 1  |  Time:    0.00598  |  Steps:          5  |  Total nodes generated:        102  |  Nodes in memory:         44  |  Max. nodes in memory: 44 \n",
      "Case: 2  |  Time:    0.19448  |  Steps:          9  |  Total nodes generated:       2610  |  Nodes in memory:        917  |  Max. nodes in memory: 917 \n",
      "Case: 3  |  Time:    3.07138  |  Steps:          8  |  Total nodes generated:      46860  |  Nodes in memory:      14119  |  Max. nodes in memory: 14119 \n",
      "Case: 4  |  Time:   24.86224  |  Steps:         12  |  Total nodes generated:     314652  |  Nodes in memory:      32400  |  Max. nodes in memory: 32400 \n",
      "Case: 5  |  Time:   17.96144  |  Steps:          8  |  Total nodes generated:     221227  |  Nodes in memory:      49711  |  Max. nodes in memory: 49711 \n"
     ]
    }
   ],
   "source": [
    "for k, v in data.items():\n",
    "    g = AStar(v[\"start\"], v[\"target\"], \"misplaced\")\n",
    "    t0 = time.time()\n",
    "    nodes, mem = g.solve()\n",
    "    t1 = time.time()\n",
    "    total = t1 - t0\n",
    "    print(\n",
    "        f\"Case: {k}  |  Time: {round(total, 5):10}  |  Steps: {(len(nodes) - 1):10}  |  Total nodes generated: {g.total_nodes:10}  |  Nodes in memory: {mem:10}  |  Max. nodes in memory: {g.max_memory} \"\n",
    "    )\n",
    "    res[\"a_star_misplaced\"][k] = {\n",
    "        \"time\": round(total, 5),\n",
    "        \"path\": [str(e) for e in nodes],\n",
    "        \"moves\": [e.move_made for e in nodes],\n",
    "        \"number_of_steps\": len(nodes) - 1,\n",
    "        \"mem_usage\": mem,\n",
    "        \"max_mem_usage\": g.max_memory,\n",
    "    }"
   ]
  },
  {
   "cell_type": "code",
   "execution_count": 29,
   "metadata": {},
   "outputs": [
    {
     "name": "stdout",
     "output_type": "stream",
     "text": [
      "Case: 1  |  Time:    0.01097  |  Steps:          5  |  Total nodes generated:        148  |  Nodes in memory:         58  |  Max. nodes in memory: 58 \n",
      "Case: 2  |  Time:     0.1875  |  Steps:          9  |  Total nodes generated:       2227  |  Nodes in memory:        798  |  Max. nodes in memory: 798 \n",
      "Case: 3  |  Time:   25.16074  |  Steps:          8  |  Total nodes generated:     236676  |  Nodes in memory:      44169  |  Max. nodes in memory: 44169 \n",
      "Case: 4  |  Time:   10.22816  |  Steps:         12  |  Total nodes generated:     107570  |  Nodes in memory:      22051  |  Max. nodes in memory: 22051 \n",
      "Case: 5  |  Time:   49.97194  |  Steps:          9  |  Total nodes generated:     478943  |  Nodes in memory:      87551  |  Max. nodes in memory: 87551 \n"
     ]
    }
   ],
   "source": [
    "for k, v in data.items():\n",
    "    g = AStar(v[\"start\"], v[\"target\"], \"manhattan\")\n",
    "    t0 = time.time()\n",
    "    nodes, mem = g.solve()\n",
    "    t1 = time.time()\n",
    "    total = t1 - t0\n",
    "    print(\n",
    "        f\"Case: {k}  |  Time: {round(total, 5):10}  |  Steps: {(len(nodes) - 1):10}  |  Total nodes generated: {g.total_nodes:10}  |  Nodes in memory: {mem:10}  |  Max. nodes in memory: {g.max_memory} \"\n",
    "    )\n",
    "    res[\"a_star_manhattan\"][k] = {\n",
    "        \"time\": round(total, 5),\n",
    "        \"path\": [str(e) for e in nodes],\n",
    "        \"moves\": [e.move_made for e in nodes],\n",
    "        \"number_of_steps\": len(nodes) - 1,\n",
    "        \"mem_usage\": mem,\n",
    "        \"max_mem_usage\": g.max_memory,\n",
    "    }"
   ]
  },
  {
   "cell_type": "code",
   "execution_count": 30,
   "metadata": {},
   "outputs": [
    {
     "name": "stdout",
     "output_type": "stream",
     "text": [
      "Case: 1  |  Time:    0.01895  |  Steps:          5  |  Total nodes generated:        154  |  Nodes in memory:         58  |  Max. nodes in memory: 58 \n",
      "Case: 2  |  Time:    0.21542  |  Steps:          9  |  Total nodes generated:       2244  |  Nodes in memory:        799  |  Max. nodes in memory: 799 \n",
      "Case: 3  |  Time:   21.87322  |  Steps:          8  |  Total nodes generated:     183221  |  Nodes in memory:      38063  |  Max. nodes in memory: 38063 \n",
      "Case: 4  |  Time:   15.53251  |  Steps:         12  |  Total nodes generated:     154449  |  Nodes in memory:      27786  |  Max. nodes in memory: 27786 \n",
      "Case: 5  |  Time:   54.17519  |  Steps:          9  |  Total nodes generated:     483756  |  Nodes in memory:      85407  |  Max. nodes in memory: 85407 \n"
     ]
    }
   ],
   "source": [
    "for k, v in data.items():\n",
    "    g = AStar(v[\"start\"], v[\"target\"], \"euclidean\")\n",
    "    t0 = time.time()\n",
    "    nodes, mem = g.solve()\n",
    "    t1 = time.time()\n",
    "    total = t1 - t0\n",
    "    print(\n",
    "        f\"Case: {k}  |  Time: {round(total, 5):10}  |  Steps: {(len(nodes) - 1):10}  |  Total nodes generated: {g.total_nodes:10}  |  Nodes in memory: {mem:10}  |  Max. nodes in memory: {g.max_memory} \"\n",
    "    )\n",
    "    res[\"a_star_euclidean\"][k] = {\n",
    "        \"time\": round(total, 5),\n",
    "        \"path\": [str(e) for e in nodes],\n",
    "        \"moves\": [e.move_made for e in nodes],\n",
    "        \"number_of_steps\": len(nodes) - 1,\n",
    "        \"mem_usage\": mem,\n",
    "        \"max_mem_usage\": g.max_memory,\n",
    "    }"
   ]
  },
  {
   "cell_type": "markdown",
   "metadata": {},
   "source": [
    "# Hill climbing"
   ]
  },
  {
   "cell_type": "code",
   "execution_count": 93,
   "metadata": {},
   "outputs": [],
   "source": [
    "class HillClimbing(Graph):\n",
    "    def __init__(self, start: Matrix, target: Matrix, distance_type=1):\n",
    "        super().__init__(start, target)\n",
    "        self.distance_type = distance_type\n",
    "        self.calculate_distance(self.root)\n",
    "        self.stack = [self.root]\n",
    "        self.node_items = {str(list(self.root.item.data))}\n",
    "\n",
    "    def calculate_distance(self, node: Node):\n",
    "        _, h = node.item.calculate_distances(self.root, self.target, self.distance_type)\n",
    "        node.h = h\n",
    "\n",
    "    def generate_children(self, node: Node) -> list:\n",
    "        children = list()\n",
    "        new_node = node\n",
    "        while new_node:\n",
    "            new_node, move = self.develop_next(node)\n",
    "            if new_node:\n",
    "                new_node.move_made = move\n",
    "                self.calculate_distance(new_node)\n",
    "                children.append(new_node)\n",
    "        return children\n",
    "\n",
    "    def solve(self) -> list:\n",
    "        while len(self.stack):\n",
    "            self.max_memory = max(self.max_memory, len(self.stack))\n",
    "            q = self.stack.pop()\n",
    "            if list(q.item.data) == list(self.target.item.data):\n",
    "                return self.from_node_to_root(q), len(self.stack) + 1\n",
    "            children = self.generate_children(q)\n",
    "            children.sort(key=lambda x: x.h, reverse=True)\n",
    "            self.stack.extend(children)"
   ]
  },
  {
   "cell_type": "code",
   "execution_count": 94,
   "metadata": {},
   "outputs": [
    {
     "name": "stdout",
     "output_type": "stream",
     "text": [
      "Case: 1  |  Time:    0.00199  |  Steps:          6  |  Total nodes generated:         16  |  Nodes in memory:         10  |  Max. nodes in memory: 10 \n",
      "Case: 2  |  Time:     0.3002  |  Steps:         57  |  Total nodes generated:       1431  |  Nodes in memory:        121  |  Max. nodes in memory: 652 \n",
      "Case: 3  |  Time:    0.25682  |  Steps:        360  |  Total nodes generated:       2278  |  Nodes in memory:       1919  |  Max. nodes in memory: 1919 \n",
      "Case: 4  |  Time:    0.28076  |  Steps:        491  |  Total nodes generated:       2652  |  Nodes in memory:       2162  |  Max. nodes in memory: 2162 \n",
      "Case: 5  |  Time:    0.53409  |  Steps:        710  |  Total nodes generated:       4139  |  Nodes in memory:       3429  |  Max. nodes in memory: 3429 \n"
     ]
    }
   ],
   "source": [
    "for k, v in data.items():\n",
    "    g = HillClimbing(v[\"start\"], v[\"target\"], \"row\")\n",
    "    t0 = time.time()\n",
    "    nodes, mem = g.solve()\n",
    "    t1 = time.time()\n",
    "    total = t1 - t0\n",
    "    print(\n",
    "        f\"Case: {k}  |  Time: {round(total, 5):10}  |  Steps: {(len(nodes) - 1):10}  |  Total nodes generated: {g.total_nodes:10}  |  Nodes in memory: {mem:10}  |  Max. nodes in memory: {g.max_memory} \"\n",
    "    )\n",
    "    res[\"hill_climbing_row\"][k] = {\n",
    "        \"time\": round(total, 5),\n",
    "        \"path\": [str(e) for e in nodes],\n",
    "        \"moves\": [e.move_made for e in nodes],\n",
    "        \"number_of_steps\": len(nodes) - 1,\n",
    "        \"mem_usage\": mem,\n",
    "        \"max_mem_usage\": g.max_memory,\n",
    "    }"
   ]
  },
  {
   "cell_type": "code",
   "execution_count": 95,
   "metadata": {},
   "outputs": [
    {
     "name": "stdout",
     "output_type": "stream",
     "text": [
      "Case: 1  |  Time:    0.00449  |  Steps:         11  |  Total nodes generated:         32  |  Nodes in memory:         17  |  Max. nodes in memory: 17 \n",
      "Case: 2  |  Time:    0.15359  |  Steps:        443  |  Total nodes generated:       1121  |  Nodes in memory:        532  |  Max. nodes in memory: 532 \n",
      "Case: 3  |  Time:    0.24036  |  Steps:        396  |  Total nodes generated:       2157  |  Nodes in memory:       1761  |  Max. nodes in memory: 1761 \n",
      "Case: 4  |  Time:    0.19747  |  Steps:        326  |  Total nodes generated:       1835  |  Nodes in memory:       1510  |  Max. nodes in memory: 1510 \n",
      "Case: 5  |  Time:    0.71661  |  Steps:        973  |  Total nodes generated:       6016  |  Nodes in memory:       5044  |  Max. nodes in memory: 5044 \n"
     ]
    }
   ],
   "source": [
    "for k, v in data.items():\n",
    "    g = HillClimbing(v[\"start\"], v[\"target\"], \"column\")\n",
    "    t0 = time.time()\n",
    "    nodes, mem = g.solve()\n",
    "    t1 = time.time()\n",
    "    total = t1 - t0\n",
    "    print(\n",
    "        f\"Case: {k}  |  Time: {round(total, 5):10}  |  Steps: {(len(nodes) - 1):10}  |  Total nodes generated: {g.total_nodes:10}  |  Nodes in memory: {mem:10}  |  Max. nodes in memory: {g.max_memory} \"\n",
    "    )\n",
    "    res[\"hill_climbing_column\"][k] = {\n",
    "        \"time\": round(total, 5),\n",
    "        \"path\": [str(e) for e in nodes],\n",
    "        \"moves\": [e.move_made for e in nodes],\n",
    "        \"number_of_steps\": len(nodes) - 1,\n",
    "        \"mem_usage\": mem,\n",
    "        \"max_mem_usage\": g.max_memory,\n",
    "    }"
   ]
  },
  {
   "cell_type": "code",
   "execution_count": 96,
   "metadata": {},
   "outputs": [
    {
     "name": "stdout",
     "output_type": "stream",
     "text": [
      "Case: 1  |  Time:    0.00199  |  Steps:          8  |  Total nodes generated:         20  |  Nodes in memory:         10  |  Max. nodes in memory: 10 \n",
      "Case: 2  |  Time:    0.00798  |  Steps:         18  |  Total nodes generated:         42  |  Nodes in memory:         25  |  Max. nodes in memory: 25 \n",
      "Case: 3  |  Time:    0.01097  |  Steps:         20  |  Total nodes generated:         81  |  Nodes in memory:         62  |  Max. nodes in memory: 62 \n",
      "Case: 4  |  Time:    0.05984  |  Steps:        115  |  Total nodes generated:        629  |  Nodes in memory:        515  |  Max. nodes in memory: 515 \n",
      "Case: 5  |  Time:    0.12666  |  Steps:        165  |  Total nodes generated:        901  |  Nodes in memory:        737  |  Max. nodes in memory: 737 \n"
     ]
    }
   ],
   "source": [
    "for k, v in data.items():\n",
    "    g = HillClimbing(v[\"start\"], v[\"target\"], \"misplaced\")\n",
    "    t0 = time.time()\n",
    "    nodes, mem = g.solve()\n",
    "    t1 = time.time()\n",
    "    total = t1 - t0\n",
    "    print(\n",
    "        f\"Case: {k}  |  Time: {round(total, 5):10}  |  Steps: {(len(nodes) - 1):10}  |  Total nodes generated: {g.total_nodes:10}  |  Nodes in memory: {mem:10}  |  Max. nodes in memory: {g.max_memory} \"\n",
    "    )\n",
    "    res[\"hill_climbing_misplaced\"][k] = {\n",
    "        \"time\": round(total, 5),\n",
    "        \"path\": [str(e) for e in nodes],\n",
    "        \"moves\": [e.move_made for e in nodes],\n",
    "        \"number_of_steps\": len(nodes) - 1,\n",
    "        \"mem_usage\": mem,\n",
    "        \"max_mem_usage\": g.max_memory,\n",
    "    }"
   ]
  },
  {
   "cell_type": "code",
   "execution_count": 35,
   "metadata": {},
   "outputs": [
    {
     "name": "stdout",
     "output_type": "stream",
     "text": [
      "Case: 1  |  Time:    0.00199  |  Steps:          8  |  Total nodes generated:         20  |  Nodes in memory:         12  |  Max. nodes in memory: 12 \n",
      "Case: 2  |  Time:    0.02793  |  Steps:         87  |  Total nodes generated:        251  |  Nodes in memory:        161  |  Max. nodes in memory: 161 \n",
      "Case: 3  |  Time:    0.06782  |  Steps:         95  |  Total nodes generated:        630  |  Nodes in memory:        536  |  Max. nodes in memory: 536 \n",
      "Case: 4  |  Time:    0.08178  |  Steps:        136  |  Total nodes generated:        829  |  Nodes in memory:        694  |  Max. nodes in memory: 694 \n",
      "Case: 5  |  Time:    0.93251  |  Steps:       1093  |  Total nodes generated:       6758  |  Nodes in memory:       5666  |  Max. nodes in memory: 5666 \n"
     ]
    }
   ],
   "source": [
    "for k, v in data.items():\n",
    "    g = HillClimbing(v[\"start\"], v[\"target\"], \"manhattan\")\n",
    "    t0 = time.time()\n",
    "    nodes, mem = g.solve()\n",
    "    t1 = time.time()\n",
    "    total = t1 - t0\n",
    "    print(\n",
    "        f\"Case: {k}  |  Time: {round(total, 5):10}  |  Steps: {(len(nodes) - 1):10}  |  Total nodes generated: {g.total_nodes:10}  |  Nodes in memory: {mem:10}  |  Max. nodes in memory: {g.max_memory} \"\n",
    "    )\n",
    "    res[\"hill_climbing_manhattan\"][k] = {\n",
    "        \"time\": round(total, 5),\n",
    "        \"path\": [str(e) for e in nodes],\n",
    "        \"moves\": [e.move_made for e in nodes],\n",
    "        \"number_of_steps\": len(nodes) - 1,\n",
    "        \"mem_usage\": mem,\n",
    "        \"max_mem_usage\": g.max_memory,\n",
    "    }"
   ]
  },
  {
   "cell_type": "code",
   "execution_count": 97,
   "metadata": {},
   "outputs": [
    {
     "name": "stdout",
     "output_type": "stream",
     "text": [
      "Case: 1  |  Time:    0.00299  |  Steps:         11  |  Total nodes generated:         33  |  Nodes in memory:         17  |  Max. nodes in memory: 17 \n",
      "Case: 2  |  Time:    0.01596  |  Steps:         54  |  Total nodes generated:        152  |  Nodes in memory:         96  |  Max. nodes in memory: 96 \n",
      "Case: 3  |  Time:    0.19997  |  Steps:        238  |  Total nodes generated:       1542  |  Nodes in memory:       1305  |  Max. nodes in memory: 1305 \n",
      "Case: 4  |  Time:    0.02693  |  Steps:         48  |  Total nodes generated:        289  |  Nodes in memory:        242  |  Max. nodes in memory: 242 \n",
      "Case: 5  |  Time:    0.10622  |  Steps:        133  |  Total nodes generated:        818  |  Nodes in memory:        686  |  Max. nodes in memory: 686 \n"
     ]
    }
   ],
   "source": [
    "for k, v in data.items():\n",
    "    g = HillClimbing(v[\"start\"], v[\"target\"], \"euclidean\")\n",
    "    t0 = time.time()\n",
    "    nodes, mem = g.solve()\n",
    "    t1 = time.time()\n",
    "    total = t1 - t0\n",
    "    print(\n",
    "        f\"Case: {k}  |  Time: {round(total, 5):10}  |  Steps: {(len(nodes) - 1):10}  |  Total nodes generated: {g.total_nodes:10}  |  Nodes in memory: {mem:10}  |  Max. nodes in memory: {g.max_memory} \"\n",
    "    )\n",
    "    res[\"hill_climbing_euclidean\"][k] = {\n",
    "        \"time\": round(total, 5),\n",
    "        \"path\": [str(e) for e in nodes],\n",
    "        \"moves\": [e.move_made for e in nodes],\n",
    "        \"number_of_steps\": len(nodes) - 1,\n",
    "        \"mem_usage\": mem,\n",
    "        \"max_mem_usage\": g.max_memory,\n",
    "    }"
   ]
  },
  {
   "cell_type": "markdown",
   "metadata": {},
   "source": [
    "# Best first"
   ]
  },
  {
   "cell_type": "code",
   "execution_count": 98,
   "metadata": {},
   "outputs": [],
   "source": [
    "class BestFirst(Graph):\n",
    "    def __init__(self, start: Matrix, target: Matrix, distance_type=1):\n",
    "        super().__init__(start, target)\n",
    "        self.distance_type = distance_type\n",
    "        self.calculate_distance(self.root)\n",
    "        self.queue = PriorityQueue()\n",
    "        self.queue.put((0, self.root))\n",
    "        self.node_items = {str(list(self.root.item.data))}\n",
    "        self.unique = count()\n",
    "\n",
    "    def calculate_distance(self, node: Node):\n",
    "        g, h = node.item.calculate_distances(self.root, self.target, self.distance_type)\n",
    "        node.h = h\n",
    "\n",
    "    def generate_children(self, node: Node) -> list:\n",
    "        children = list()\n",
    "        new_node = node\n",
    "        while new_node:\n",
    "            new_node, move = self.develop_next(node)\n",
    "            if new_node:\n",
    "                new_node.move_made = move\n",
    "                self.calculate_distance(new_node)\n",
    "                children.append(new_node)\n",
    "        return children\n",
    "\n",
    "    def solve(self) -> list:\n",
    "        while not self.queue.empty():\n",
    "            self.max_memory = max(self.max_memory, self.queue.qsize())\n",
    "            _, q = self.queue.get()\n",
    "            if list(q.item.data) == list(self.target.item.data):\n",
    "                return self.from_node_to_root(q), self.queue.qsize() + 1\n",
    "            children = self.generate_children(q)\n",
    "            for e in children:\n",
    "                self.queue.put(((e.h, next(self.unique)), e))"
   ]
  },
  {
   "cell_type": "code",
   "execution_count": 103,
   "metadata": {},
   "outputs": [
    {
     "name": "stdout",
     "output_type": "stream",
     "text": [
      "Case: 1  |  Time:    0.00598  |  Steps:          6  |  Total nodes generated:         43  |  Nodes in memory:         19  |  Max. nodes in memory: 19 \n",
      "Case: 2  |  Time:    0.09924  |  Steps:         12  |  Total nodes generated:        465  |  Nodes in memory:        203  |  Max. nodes in memory: 203 \n",
      "Case: 3  |  Time:    0.51114  |  Steps:         12  |  Total nodes generated:       3154  |  Nodes in memory:       2421  |  Max. nodes in memory: 2421 \n",
      "Case: 4  |  Time:    1.29059  |  Steps:         14  |  Total nodes generated:       6362  |  Nodes in memory:       4112  |  Max. nodes in memory: 4112 \n",
      "Case: 5  |  Time:    0.22939  |  Steps:         13  |  Total nodes generated:       1583  |  Nodes in memory:       1264  |  Max. nodes in memory: 1264 \n"
     ]
    }
   ],
   "source": [
    "for k, v in data.items():\n",
    "    g = BestFirst(v[\"start\"], v[\"target\"], \"row\")\n",
    "    t0 = time.time()\n",
    "    nodes, mem = g.solve()\n",
    "    t1 = time.time()\n",
    "    total = t1 - t0\n",
    "    print(\n",
    "        f\"Case: {k}  |  Time: {round(total, 5):10}  |  Steps: {(len(nodes) - 1):10}  |  Total nodes generated: {g.total_nodes:10}  |  Nodes in memory: {mem:10}  |  Max. nodes in memory: {g.max_memory} \"\n",
    "    )\n",
    "\n",
    "res[\"best_first_row\"][k] = {\n",
    "    \"time\": round(total, 5),\n",
    "    \"path\": [str(e) for e in nodes],\n",
    "    \"moves\": [e.move_made for e in nodes],\n",
    "    \"number_of_steps\": len(nodes) - 1,\n",
    "    \"mem_usage\": mem,\n",
    "    \"max_mem_usage\": g.max_memory,\n",
    "}"
   ]
  },
  {
   "cell_type": "code",
   "execution_count": 104,
   "metadata": {},
   "outputs": [
    {
     "name": "stdout",
     "output_type": "stream",
     "text": [
      "Case: 1  |  Time:    0.00698  |  Steps:          7  |  Total nodes generated:         50  |  Nodes in memory:         18  |  Max. nodes in memory: 18 \n",
      "Case: 2  |  Time:    0.00997  |  Steps:         13  |  Total nodes generated:         93  |  Nodes in memory:         57  |  Max. nodes in memory: 57 \n",
      "Case: 3  |  Time:    0.04488  |  Steps:         17  |  Total nodes generated:        333  |  Nodes in memory:        272  |  Max. nodes in memory: 272 \n",
      "Case: 4  |  Time:    0.51514  |  Steps:         12  |  Total nodes generated:       3318  |  Nodes in memory:       2481  |  Max. nodes in memory: 2481 \n",
      "Case: 5  |  Time:    1.47258  |  Steps:         14  |  Total nodes generated:       8847  |  Nodes in memory:       6755  |  Max. nodes in memory: 6755 \n"
     ]
    }
   ],
   "source": [
    "for k, v in data.items():\n",
    "    g = BestFirst(v[\"start\"], v[\"target\"], \"column\")\n",
    "    t0 = time.time()\n",
    "    nodes, mem = g.solve()\n",
    "    t1 = time.time()\n",
    "    total = t1 - t0\n",
    "    print(\n",
    "        f\"Case: {k}  |  Time: {round(total, 5):10}  |  Steps: {(len(nodes) - 1):10}  |  Total nodes generated: {g.total_nodes:10}  |  Nodes in memory: {mem:10}  |  Max. nodes in memory: {g.max_memory} \"\n",
    "    )\n",
    "\n",
    "res[\"best_first_column\"][k] = {\n",
    "    \"time\": round(total, 5),\n",
    "    \"path\": [str(e) for e in nodes],\n",
    "    \"moves\": [e.move_made for e in nodes],\n",
    "    \"number_of_steps\": len(nodes) - 1,\n",
    "    \"mem_usage\": mem,\n",
    "    \"max_mem_usage\": g.max_memory,\n",
    "}"
   ]
  },
  {
   "cell_type": "code",
   "execution_count": 102,
   "metadata": {},
   "outputs": [
    {
     "name": "stdout",
     "output_type": "stream",
     "text": [
      "Case: 1  |  Time:    0.00399  |  Steps:          5  |  Total nodes generated:         28  |  Nodes in memory:         13  |  Max. nodes in memory: 13 \n",
      "Case: 2  |  Time:    0.00399  |  Steps:         11  |  Total nodes generated:         36  |  Nodes in memory:         22  |  Max. nodes in memory: 22 \n",
      "Case: 3  |  Time:    0.00898  |  Steps:         12  |  Total nodes generated:         63  |  Nodes in memory:         50  |  Max. nodes in memory: 50 \n",
      "Case: 4  |  Time:    0.02444  |  Steps:         12  |  Total nodes generated:        225  |  Nodes in memory:        183  |  Max. nodes in memory: 183 \n",
      "Case: 5  |  Time:    0.06981  |  Steps:         19  |  Total nodes generated:        334  |  Nodes in memory:        268  |  Max. nodes in memory: 268 \n"
     ]
    }
   ],
   "source": [
    "for k, v in data.items():\n",
    "    g = BestFirst(v[\"start\"], v[\"target\"], \"misplaced\")\n",
    "    t0 = time.time()\n",
    "    nodes, mem = g.solve()\n",
    "    t1 = time.time()\n",
    "    total = t1 - t0\n",
    "    print(\n",
    "        f\"Case: {k}  |  Time: {round(total, 5):10}  |  Steps: {(len(nodes) - 1):10}  |  Total nodes generated: {g.total_nodes:10}  |  Nodes in memory: {mem:10}  |  Max. nodes in memory: {g.max_memory} \"\n",
    "    )\n",
    "\n",
    "res[\"best_first_misplaced\"][k] = {\n",
    "    \"time\": round(total, 5),\n",
    "    \"path\": [str(e) for e in nodes],\n",
    "    \"moves\": [e.move_made for e in nodes],\n",
    "    \"number_of_steps\": len(nodes) - 1,\n",
    "    \"mem_usage\": mem,\n",
    "    \"max_mem_usage\": g.max_memory,\n",
    "}"
   ]
  },
  {
   "cell_type": "code",
   "execution_count": 99,
   "metadata": {},
   "outputs": [
    {
     "name": "stdout",
     "output_type": "stream",
     "text": [
      "Case: 1  |  Time:    0.00798  |  Steps:          9  |  Total nodes generated:         50  |  Nodes in memory:         16  |  Max. nodes in memory: 16 \n",
      "Case: 2  |  Time:     0.0359  |  Steps:         30  |  Total nodes generated:        258  |  Nodes in memory:        145  |  Max. nodes in memory: 145 \n",
      "Case: 3  |  Time:     0.0404  |  Steps:         19  |  Total nodes generated:        250  |  Nodes in memory:        211  |  Max. nodes in memory: 211 \n",
      "Case: 4  |  Time:    4.25219  |  Steps:         18  |  Total nodes generated:       1539  |  Nodes in memory:       1233  |  Max. nodes in memory: 1233 \n",
      "Case: 5  |  Time:    0.38996  |  Steps:         50  |  Total nodes generated:       2435  |  Nodes in memory:       1960  |  Max. nodes in memory: 1960 \n"
     ]
    }
   ],
   "source": [
    "for k, v in data.items():\n",
    "    g = BestFirst(v[\"start\"], v[\"target\"], \"manhattan\")\n",
    "    t0 = time.time()\n",
    "    nodes, mem = g.solve()\n",
    "    t1 = time.time()\n",
    "    total = t1 - t0\n",
    "    print(\n",
    "        f\"Case: {k}  |  Time: {round(total, 5):10}  |  Steps: {(len(nodes) - 1):10}  |  Total nodes generated: {g.total_nodes:10}  |  Nodes in memory: {mem:10}  |  Max. nodes in memory: {g.max_memory} \"\n",
    "    )\n",
    "\n",
    "res[\"best_first_manhattan\"][k] = {\n",
    "    \"time\": round(total, 5),\n",
    "    \"path\": [str(e) for e in nodes],\n",
    "    \"moves\": [e.move_made for e in nodes],\n",
    "    \"number_of_steps\": len(nodes) - 1,\n",
    "    \"mem_usage\": mem,\n",
    "    \"max_mem_usage\": g.max_memory,\n",
    "}"
   ]
  },
  {
   "cell_type": "code",
   "execution_count": 100,
   "metadata": {},
   "outputs": [
    {
     "name": "stdout",
     "output_type": "stream",
     "text": [
      "Case: 1  |  Time:    0.00698  |  Steps:          9  |  Total nodes generated:         43  |  Nodes in memory:         15  |  Max. nodes in memory: 15 \n",
      "Case: 2  |  Time:    0.02793  |  Steps:         32  |  Total nodes generated:        212  |  Nodes in memory:        127  |  Max. nodes in memory: 127 \n",
      "Case: 3  |  Time:    0.04089  |  Steps:         19  |  Total nodes generated:        189  |  Nodes in memory:        163  |  Max. nodes in memory: 163 \n",
      "Case: 4  |  Time:    0.24684  |  Steps:         25  |  Total nodes generated:       1885  |  Nodes in memory:       1494  |  Max. nodes in memory: 1494 \n",
      "Case: 5  |  Time:    0.06383  |  Steps:         31  |  Total nodes generated:        435  |  Nodes in memory:        362  |  Max. nodes in memory: 362 \n"
     ]
    }
   ],
   "source": [
    "for k, v in data.items():\n",
    "    g = BestFirst(v[\"start\"], v[\"target\"], \"euclidean\")\n",
    "    t0 = time.time()\n",
    "    nodes, mem = g.solve()\n",
    "    t1 = time.time()\n",
    "    total = t1 - t0\n",
    "    print(\n",
    "        f\"Case: {k}  |  Time: {round(total, 5):10}  |  Steps: {(len(nodes) - 1):10}  |  Total nodes generated: {g.total_nodes:10}  |  Nodes in memory: {mem:10}  |  Max. nodes in memory: {g.max_memory} \"\n",
    "    )\n",
    "\n",
    "res[\"best_first_euclidean\"][k] = {\n",
    "    \"time\": round(total, 5),\n",
    "    \"path\": [str(e) for e in nodes],\n",
    "    \"moves\": [e.move_made for e in nodes],\n",
    "    \"number_of_steps\": len(nodes) - 1,\n",
    "    \"mem_usage\": mem,\n",
    "    \"max_mem_usage\": g.max_memory,\n",
    "}"
   ]
  },
  {
   "cell_type": "code",
   "execution_count": 108,
   "metadata": {},
   "outputs": [],
   "source": [
    "pickle.dump(res, open(\"results.pickle\", \"wb\"))"
   ]
  },
  {
   "cell_type": "markdown",
   "metadata": {},
   "source": [
    "# Results analysis"
   ]
  },
  {
   "cell_type": "code",
   "execution_count": 136,
   "metadata": {},
   "outputs": [],
   "source": [
    "raw_data = pickle.load(open(\"results.pickle\", \"rb\"))"
   ]
  },
  {
   "cell_type": "code",
   "execution_count": 137,
   "metadata": {},
   "outputs": [
    {
     "name": "stdout",
     "output_type": "stream",
     "text": [
      "dict_keys(['bfs', 'dfs', 'iddfs', 'a_star_row', 'a_star_column', 'a_star_misplaced', 'a_star_manhattan', 'a_star_euclidean', 'hill_climbing_row', 'hill_climbing_column', 'hill_climbing_misplaced', 'hill_climbing_manhattan', 'hill_climbing_euclidean', 'best_first_manhattan', 'best_first_euclidean', 'best_first_misplaced', 'best_first_row', 'best_first_column'])\n"
     ]
    }
   ],
   "source": [
    "print(raw_data.keys())"
   ]
  },
  {
   "cell_type": "code",
   "execution_count": 138,
   "metadata": {},
   "outputs": [],
   "source": [
    "data = pd.concat({k: pd.DataFrame.from_dict(v, \"index\") for k, v in raw_data.items()})"
   ]
  },
  {
   "cell_type": "code",
   "execution_count": 139,
   "metadata": {},
   "outputs": [],
   "source": [
    "data = data.reset_index()"
   ]
  },
  {
   "cell_type": "code",
   "execution_count": 140,
   "metadata": {},
   "outputs": [],
   "source": [
    "data = data.rename(columns={\"level_0\": \"algorithm\", \"level_1\": \"test_case\"})"
   ]
  },
  {
   "cell_type": "code",
   "execution_count": 291,
   "metadata": {},
   "outputs": [
    {
     "data": {
      "text/html": [
       "<div>\n",
       "<style scoped>\n",
       "    .dataframe tbody tr th:only-of-type {\n",
       "        vertical-align: middle;\n",
       "    }\n",
       "\n",
       "    .dataframe tbody tr th {\n",
       "        vertical-align: top;\n",
       "    }\n",
       "\n",
       "    .dataframe thead th {\n",
       "        text-align: right;\n",
       "    }\n",
       "</style>\n",
       "<table border=\"1\" class=\"dataframe\">\n",
       "  <thead>\n",
       "    <tr style=\"text-align: right;\">\n",
       "      <th></th>\n",
       "      <th>algorithm</th>\n",
       "      <th>test_case</th>\n",
       "      <th>time</th>\n",
       "      <th>path</th>\n",
       "      <th>moves</th>\n",
       "      <th>number_of_steps</th>\n",
       "      <th>mem_usage</th>\n",
       "      <th>max_mem_usage</th>\n",
       "    </tr>\n",
       "  </thead>\n",
       "  <tbody>\n",
       "    <tr>\n",
       "      <th>0</th>\n",
       "      <td>bfs</td>\n",
       "      <td>1</td>\n",
       "      <td>0.00798</td>\n",
       "      <td>[[' ', ' ', ' ']\\n[' ', ' ', ' ']\\n['A', 'B', ...</td>\n",
       "      <td>[None, (0, 2), (1, 0), (2, 1), (2, 0), (1, 0)]</td>\n",
       "      <td>5</td>\n",
       "      <td>20</td>\n",
       "      <td>20</td>\n",
       "    </tr>\n",
       "    <tr>\n",
       "      <th>1</th>\n",
       "      <td>bfs</td>\n",
       "      <td>2</td>\n",
       "      <td>0.13863</td>\n",
       "      <td>[[' ', ' ', ' ']\\n['B', 'E', ' ']\\n['A', 'C', ...</td>\n",
       "      <td>[None, (0, 1), (0, 2), (1, 0), (1, 2), (1, 0),...</td>\n",
       "      <td>9</td>\n",
       "      <td>242</td>\n",
       "      <td>241</td>\n",
       "    </tr>\n",
       "    <tr>\n",
       "      <th>2</th>\n",
       "      <td>bfs</td>\n",
       "      <td>3</td>\n",
       "      <td>5.87430</td>\n",
       "      <td>[[' ', ' ', ' ', ' ']\\n[' ', ' ', ' ', ' ']\\n[...</td>\n",
       "      <td>[None, (0, 2), (0, 2), (3, 0), (1, 3), (1, 3),...</td>\n",
       "      <td>8</td>\n",
       "      <td>10904</td>\n",
       "      <td>10904</td>\n",
       "    </tr>\n",
       "    <tr>\n",
       "      <th>3</th>\n",
       "      <td>bfs</td>\n",
       "      <td>4</td>\n",
       "      <td>16.00621</td>\n",
       "      <td>[['B', 'D', 'F', ' ', ' ']\\n['A', 'C', 'E', ' ...</td>\n",
       "      <td>[None, (0, 3), (0, 4), (1, 0), (1, 3), (0, 1),...</td>\n",
       "      <td>12</td>\n",
       "      <td>21</td>\n",
       "      <td>10691</td>\n",
       "    </tr>\n",
       "    <tr>\n",
       "      <th>4</th>\n",
       "      <td>bfs</td>\n",
       "      <td>5</td>\n",
       "      <td>40.08436</td>\n",
       "      <td>[[' ', ' ', ' ', ' ', ' ']\\n[' ', ' ', ' ', ' ...</td>\n",
       "      <td>[None, (0, 2), (1, 4), (0, 1), (2, 0), (2, 1),...</td>\n",
       "      <td>8</td>\n",
       "      <td>47870</td>\n",
       "      <td>47872</td>\n",
       "    </tr>\n",
       "    <tr>\n",
       "      <th>5</th>\n",
       "      <td>dfs</td>\n",
       "      <td>1</td>\n",
       "      <td>0.00598</td>\n",
       "      <td>[[' ', ' ', ' ']\\n[' ', ' ', ' ']\\n['A', 'B', ...</td>\n",
       "      <td>[None, (0, 1), (2, 0), (1, 0), (1, 2), (0, 1),...</td>\n",
       "      <td>9</td>\n",
       "      <td>14</td>\n",
       "      <td>14</td>\n",
       "    </tr>\n",
       "    <tr>\n",
       "      <th>6</th>\n",
       "      <td>dfs</td>\n",
       "      <td>2</td>\n",
       "      <td>0.13663</td>\n",
       "      <td>[[' ', ' ', ' ']\\n['B', 'E', ' ']\\n['A', 'C', ...</td>\n",
       "      <td>[None, (0, 1), (0, 2), (1, 0), (1, 0), (1, 0),...</td>\n",
       "      <td>398</td>\n",
       "      <td>570</td>\n",
       "      <td>570</td>\n",
       "    </tr>\n",
       "    <tr>\n",
       "      <th>7</th>\n",
       "      <td>dfs</td>\n",
       "      <td>3</td>\n",
       "      <td>4.26061</td>\n",
       "      <td>[[' ', ' ', ' ', ' ']\\n[' ', ' ', ' ', ' ']\\n[...</td>\n",
       "      <td>[None, (0, 1), (0, 1), (2, 0), (1, 0), (1, 0),...</td>\n",
       "      <td>6443</td>\n",
       "      <td>22507</td>\n",
       "      <td>22507</td>\n",
       "    </tr>\n",
       "    <tr>\n",
       "      <th>8</th>\n",
       "      <td>dfs</td>\n",
       "      <td>4</td>\n",
       "      <td>4.28355</td>\n",
       "      <td>[['B', 'D', 'F', ' ', ' ']\\n['A', 'C', 'E', ' ...</td>\n",
       "      <td>[None, (0, 3), (0, 3), (1, 0), (1, 0), (2, 1),...</td>\n",
       "      <td>7071</td>\n",
       "      <td>21610</td>\n",
       "      <td>21610</td>\n",
       "    </tr>\n",
       "    <tr>\n",
       "      <th>9</th>\n",
       "      <td>dfs</td>\n",
       "      <td>5</td>\n",
       "      <td>0.02294</td>\n",
       "      <td>[[' ', ' ', ' ', ' ', ' ']\\n[' ', ' ', ' ', ' ...</td>\n",
       "      <td>[None, (0, 1), (0, 1), (2, 0), (1, 0), (1, 0),...</td>\n",
       "      <td>29</td>\n",
       "      <td>241</td>\n",
       "      <td>241</td>\n",
       "    </tr>\n",
       "  </tbody>\n",
       "</table>\n",
       "</div>"
      ],
      "text/plain": [
       "  algorithm  test_case      time  \\\n",
       "0       bfs          1   0.00798   \n",
       "1       bfs          2   0.13863   \n",
       "2       bfs          3   5.87430   \n",
       "3       bfs          4  16.00621   \n",
       "4       bfs          5  40.08436   \n",
       "5       dfs          1   0.00598   \n",
       "6       dfs          2   0.13663   \n",
       "7       dfs          3   4.26061   \n",
       "8       dfs          4   4.28355   \n",
       "9       dfs          5   0.02294   \n",
       "\n",
       "                                                path  \\\n",
       "0  [[' ', ' ', ' ']\\n[' ', ' ', ' ']\\n['A', 'B', ...   \n",
       "1  [[' ', ' ', ' ']\\n['B', 'E', ' ']\\n['A', 'C', ...   \n",
       "2  [[' ', ' ', ' ', ' ']\\n[' ', ' ', ' ', ' ']\\n[...   \n",
       "3  [['B', 'D', 'F', ' ', ' ']\\n['A', 'C', 'E', ' ...   \n",
       "4  [[' ', ' ', ' ', ' ', ' ']\\n[' ', ' ', ' ', ' ...   \n",
       "5  [[' ', ' ', ' ']\\n[' ', ' ', ' ']\\n['A', 'B', ...   \n",
       "6  [[' ', ' ', ' ']\\n['B', 'E', ' ']\\n['A', 'C', ...   \n",
       "7  [[' ', ' ', ' ', ' ']\\n[' ', ' ', ' ', ' ']\\n[...   \n",
       "8  [['B', 'D', 'F', ' ', ' ']\\n['A', 'C', 'E', ' ...   \n",
       "9  [[' ', ' ', ' ', ' ', ' ']\\n[' ', ' ', ' ', ' ...   \n",
       "\n",
       "                                               moves  number_of_steps  \\\n",
       "0     [None, (0, 2), (1, 0), (2, 1), (2, 0), (1, 0)]                5   \n",
       "1  [None, (0, 1), (0, 2), (1, 0), (1, 2), (1, 0),...                9   \n",
       "2  [None, (0, 2), (0, 2), (3, 0), (1, 3), (1, 3),...                8   \n",
       "3  [None, (0, 3), (0, 4), (1, 0), (1, 3), (0, 1),...               12   \n",
       "4  [None, (0, 2), (1, 4), (0, 1), (2, 0), (2, 1),...                8   \n",
       "5  [None, (0, 1), (2, 0), (1, 0), (1, 2), (0, 1),...                9   \n",
       "6  [None, (0, 1), (0, 2), (1, 0), (1, 0), (1, 0),...              398   \n",
       "7  [None, (0, 1), (0, 1), (2, 0), (1, 0), (1, 0),...             6443   \n",
       "8  [None, (0, 3), (0, 3), (1, 0), (1, 0), (2, 1),...             7071   \n",
       "9  [None, (0, 1), (0, 1), (2, 0), (1, 0), (1, 0),...               29   \n",
       "\n",
       "   mem_usage  max_mem_usage  \n",
       "0         20             20  \n",
       "1        242            241  \n",
       "2      10904          10904  \n",
       "3         21          10691  \n",
       "4      47870          47872  \n",
       "5         14             14  \n",
       "6        570            570  \n",
       "7      22507          22507  \n",
       "8      21610          21610  \n",
       "9        241            241  "
      ]
     },
     "execution_count": 291,
     "metadata": {},
     "output_type": "execute_result"
    }
   ],
   "source": [
    "data.head(10)"
   ]
  },
  {
   "cell_type": "code",
   "execution_count": 290,
   "metadata": {},
   "outputs": [
    {
     "data": {
      "image/png": "[encoded data removed]",
      "text/plain": [
       "<Figure size 864x720 with 1 Axes>"
      ]
     },
     "metadata": {},
     "output_type": "display_data"
    }
   ],
   "source": [
    "fig, ax = plt.subplots(figsize=(12, 10))\n",
    "plot = sns.scatterplot(\n",
    "    data=data,\n",
    "    x=\"time\",\n",
    "    y=\"max_mem_usage\",\n",
    "    hue=\"algorithm\",\n",
    "    style=\"test_case\",\n",
    "    palette=\"tab10\",\n",
    "    ax=ax,\n",
    ")\n",
    "plot.set_yscale(\"log\")\n",
    "plot.set_xscale(\"log\")"
   ]
  },
  {
   "cell_type": "markdown",
   "metadata": {},
   "source": [
    "## Comparison between algorithms that find the optimal path"
   ]
  },
  {
   "cell_type": "code",
   "execution_count": 198,
   "metadata": {},
   "outputs": [
    {
     "data": {
      "text/plain": [
       "Text(0.5, 1.0, 'execution duration in seconds')"
      ]
     },
     "execution_count": 198,
     "metadata": {},
     "output_type": "execute_result"
    },
    {
     "data": {
      "image/png": "[encoded data removed]",
      "text/plain": [
       "<Figure size 1440x720 with 3 Axes>"
      ]
     },
     "metadata": {},
     "output_type": "display_data"
    }
   ],
   "source": [
    "fig, ax = plt.subplots(1, 3, figsize=(20, 10))\n",
    "fig.suptitle('Comparison between algorithms that find the optimal path', fontsize=16)\n",
    "temp_data = data[data[\"algorithm\"].isin((\"bfs\", \"a_star_misplaced\", \"iddfs\"))]\n",
    "plot = sns.barplot(\n",
    "    data=temp_data,\n",
    "    x=\"algorithm\",\n",
    "    y=\"mem_usage\",\n",
    "    hue=\"test_case\",\n",
    "    ax=ax[0],\n",
    ")\n",
    "plot.set_yscale(\"log\")\n",
    "\n",
    "plot = sns.barplot(\n",
    "    data=temp_data,\n",
    "    x=\"algorithm\",\n",
    "    y=\"max_mem_usage\",\n",
    "    hue=\"test_case\",\n",
    "    ax=ax[1],\n",
    ")\n",
    "\n",
    "plot.set_yscale(\"log\")\n",
    "\n",
    "plot = sns.barplot(\n",
    "    data=temp_data,\n",
    "    x=\"algorithm\",\n",
    "    y=\"time\",\n",
    "    hue=\"test_case\",\n",
    "    ax=ax[2],\n",
    ")\n",
    "\n",
    "plot.set_yscale(\"log\")\n",
    "\n",
    "ax[0].set(ylim=(1, 100000))\n",
    "ax[1].set(ylim=(1, 100000))\n",
    "ax[0].set_title(\"# of nodes in memory at the time of target discovery\")\n",
    "ax[1].set_title(\"max # of nodes in memory\")\n",
    "ax[2].set_title(\"execution duration in seconds\")"
   ]
  },
  {
   "cell_type": "markdown",
   "metadata": {},
   "source": [
    "## Comparison between different heuristics used for A*"
   ]
  },
  {
   "cell_type": "code",
   "execution_count": 223,
   "metadata": {},
   "outputs": [
    {
     "data": {
      "text/plain": [
       "Text(0.5, 1.0, 'execution duration in seconds')"
      ]
     },
     "execution_count": 223,
     "metadata": {},
     "output_type": "execute_result"
    },
    {
     "data": {
      "image/png": "[encoded data removed]",
      "text/plain": [
       "<Figure size 2088x864 with 3 Axes>"
      ]
     },
     "metadata": {},
     "output_type": "display_data"
    }
   ],
   "source": [
    "fig, ax = plt.subplots(1, 3, figsize=(29, 12))\n",
    "fig.suptitle('Comparison between different heuristics used for A*', fontsize=16)\n",
    "temp_data = data[data[\"algorithm\"].isin((\"a_star_misplaced\", \"a_star_row\", \"a_star_column\", \"a_star_manhattan\", \"a_star_euclidean\"))]\n",
    "plot = sns.barplot(\n",
    "    data=temp_data,\n",
    "    x=\"algorithm\",\n",
    "    y=\"mem_usage\",\n",
    "    hue=\"test_case\",\n",
    "    ax=ax[0],\n",
    ")\n",
    "plot.set_yscale(\"log\")\n",
    "\n",
    "plot = sns.barplot(\n",
    "    data=temp_data,\n",
    "    x=\"algorithm\",\n",
    "    y=\"number_of_steps\",\n",
    "    hue=\"test_case\",\n",
    "    ax=ax[1],\n",
    ")\n",
    "\n",
    "plot = sns.barplot(\n",
    "    data=temp_data,\n",
    "    x=\"algorithm\",\n",
    "    y=\"time\",\n",
    "    hue=\"test_case\",\n",
    "    ax=ax[2],\n",
    ")\n",
    "\n",
    "plot.set_yscale(\"log\")\n",
    "\n",
    "ax[0].set(ylim=(1, 1000000))\n",
    "ax[0].set_title(\"# of nodes in memory at the time of target discovery\")\n",
    "ax[1].set_title(\"number of stpes in the path found\")\n",
    "ax[2].set_title(\"execution duration in seconds\")"
   ]
  },
  {
   "cell_type": "code",
   "execution_count": 261,
   "metadata": {},
   "outputs": [
    {
     "name": "stdout",
     "output_type": "stream",
     "text": [
      "Test case 1:\n",
      "MAX max. memory usage\n",
      "algorithm        a_star_manhattan\n",
      "max_mem_usage                  58\n",
      "Name: 28, dtype: object\n",
      "\n",
      "MIN max. memory usage\n",
      "algorithm        hill_climbing_row\n",
      "max_mem_usage                   10\n",
      "Name: 38, dtype: object\n",
      "\n",
      "MAX execution duration\n",
      "algorithm      iddfs\n",
      "time         0.03092\n",
      "Name: 10, dtype: object\n",
      "\n",
      "MIN execution duration\n",
      "algorithm    hill_climbing_row\n",
      "time                   0.00199\n",
      "Name: 38, dtype: object\n",
      "#############################################\n",
      "\n",
      "Test case 2:\n",
      "MAX max. memory usage\n",
      "algorithm        a_star_misplaced\n",
      "max_mem_usage                 917\n",
      "Name: 24, dtype: object\n",
      "\n",
      "MIN max. memory usage\n",
      "algorithm        iddfs\n",
      "max_mem_usage       25\n",
      "Name: 11, dtype: object\n",
      "\n",
      "MAX execution duration\n",
      "algorithm      iddfs\n",
      "time         2.56714\n",
      "Name: 11, dtype: object\n",
      "\n",
      "MIN execution duration\n",
      "algorithm    hill_climbing_misplaced\n",
      "time                         0.00798\n",
      "Name: 49, dtype: object\n",
      "#############################################\n",
      "\n",
      "Test case 3:\n",
      "MAX max. memory usage\n",
      "algorithm        a_star_column\n",
      "max_mem_usage            46132\n",
      "Name: 20, dtype: object\n",
      "\n",
      "MIN max. memory usage\n",
      "algorithm        hill_climbing_misplaced\n",
      "max_mem_usage                         62\n",
      "Name: 50, dtype: object\n",
      "\n",
      "MAX execution duration\n",
      "algorithm      iddfs\n",
      "time         534.986\n",
      "Name: 12, dtype: object\n",
      "\n",
      "MIN execution duration\n",
      "algorithm    hill_climbing_misplaced\n",
      "time                         0.01097\n",
      "Name: 50, dtype: object\n",
      "#############################################\n",
      "\n",
      "Test case 4:\n",
      "MAX max. memory usage\n",
      "algorithm        a_star_row\n",
      "max_mem_usage         32400\n",
      "Name: 16, dtype: object\n",
      "\n",
      "MIN max. memory usage\n",
      "algorithm        hill_climbing_euclidean\n",
      "max_mem_usage                        242\n",
      "Name: 61, dtype: object\n",
      "\n",
      "MAX execution duration\n",
      "algorithm    a_star_misplaced\n",
      "time                  24.8622\n",
      "Name: 26, dtype: object\n",
      "\n",
      "MIN execution duration\n",
      "algorithm    hill_climbing_euclidean\n",
      "time                         0.02693\n",
      "Name: 61, dtype: object\n",
      "#############################################\n",
      "\n",
      "Test case 5:\n",
      "MAX max. memory usage\n",
      "algorithm        a_star_row\n",
      "max_mem_usage        133185\n",
      "Name: 17, dtype: object\n",
      "\n",
      "MIN max. memory usage\n",
      "algorithm        dfs\n",
      "max_mem_usage    241\n",
      "Name: 9, dtype: object\n",
      "\n",
      "MAX execution duration\n",
      "algorithm    a_star_row\n",
      "time            135.813\n",
      "Name: 17, dtype: object\n",
      "\n",
      "MIN execution duration\n",
      "algorithm        dfs\n",
      "time         0.02294\n",
      "Name: 9, dtype: object\n",
      "#############################################\n",
      "\n"
     ]
    }
   ],
   "source": [
    "for i in range(1,6):\n",
    "    print(f\"Test case {i}:\")\n",
    "    temp_data = data[data[\"test_case\"] == i]\n",
    "    print(\"MAX max. memory usage\")\n",
    "    print(temp_data.loc[temp_data['max_mem_usage'].idxmax()][[\"algorithm\", \"max_mem_usage\"]])\n",
    "    print()\n",
    "    print(\"MIN max. memory usage\")\n",
    "    print(temp_data.loc[temp_data['max_mem_usage'].idxmin()][[\"algorithm\", \"max_mem_usage\"]])\n",
    "    print()\n",
    "    print(\"MAX execution duration\")\n",
    "    print(temp_data.loc[temp_data['time'].idxmax()][[\"algorithm\", \"time\"]])\n",
    "    print()\n",
    "    print(\"MIN execution duration\")\n",
    "    print(temp_data.loc[temp_data['time'].idxmin()][[\"algorithm\", \"time\"]])\n",
    "    print(\"#############################################\")\n",
    "    print()    "
   ]
  }
 ],
 "metadata": {
  "kernelspec": {
   "display_name": "Python 3",
   "language": "python",
   "name": "python3"
  },
  "language_info": {
   "codemirror_mode": {
    "name": "ipython",
    "version": 3
   },
   "file_extension": ".py",
   "mimetype": "text/x-python",
   "name": "python",
   "nbconvert_exporter": "python",
   "pygments_lexer": "ipython3",
   "version": "3.8.0"
  }
 },
 "nbformat": 4,
 "nbformat_minor": 4
}
